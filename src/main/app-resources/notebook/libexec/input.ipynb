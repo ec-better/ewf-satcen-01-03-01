{
 "cells": [
  {
   "cell_type": "markdown",
   "metadata": {},
   "source": [
    "## SATCEN-01-03-01 Sentinel-2 DVI, composites and BOA reflectances"
   ]
  },
  {
   "cell_type": "markdown",
   "metadata": {},
   "source": [
    "### <a name=\"quicklink\">Quick link"
   ]
  },
  {
   "cell_type": "markdown",
   "metadata": {},
   "source": [
    "* [Objective](#objective)\n",
    "* [Data](#data)\n",
    "* [Service Definition](#service)\n",
    "* [Parameter Definition](#parameter)\n",
    "* [Runtime Parameter Definition](#runtime)\n",
    "* [Workflow](#workflow)\n",
    "* [License](#license)"
   ]
  },
  {
   "cell_type": "markdown",
   "metadata": {},
   "source": [
    "### <a name=\"objective\">Objective "
   ]
  },
  {
   "cell_type": "markdown",
   "metadata": {},
   "source": [
    "As a data processor developer, I want to implement, and package an algorithm processing S2 Level1 datasets producing time series data cube of areas with potential illicit crops based on Sentinel 2 data\n",
    "\n",
    "* DVI Maps\n",
    "* Coregistered stack of Sentinel-2 (BOA reflectances)\n",
    "* Color composites (4,3,2), (8a,4,3), (8,4,3), (8a,4,12), (11,8a,4), (8a,11,2), (12,4,3)"
   ]
  },
  {
   "cell_type": "markdown",
   "metadata": {},
   "source": [
    "### <a name=\"data\">Data "
   ]
  },
  {
   "cell_type": "markdown",
   "metadata": {},
   "source": [
    "SENTINEL data products are made available systematically and free of charge to all data users including the general public, scientific and commercial users. Radar data will be delivered within an hour of reception for Near Real-Time (NRT) emergency response, within three hours for NRT priority areas and within 24 hours for systematically archived data.\n",
    "\n",
    "The data used are Sentinel-2 Level-1C products: Top of atmosphere reflectances in fixed cartographic geometry (combined UTM projection and WGS84 ellipsoid). Level-1C images are a set of tiles of 100 sq km, each of which is approximately 500 MB. These products contain applied radiometric and geometric corrections (including orthorectification and spatial registration). \n",
    "\n",
    "The spectral bands of Sentinel-2 Level-1C products are:\n",
    "\n",
    "| S-2 band                | 1   | 2   | 3   | 4   | 5   | 6   | 7   | 8   | 8a  | 9   | 10   | 11   | 12   |\n",
    "|-------------------------|-----|-----|-----|-----|-----|-----|-----|-----|-----|-----|------|------|------|\n",
    "| Central wavelength (nm) | 443 | 490 | 560 | 665 | 705 | 740 | 783 | 842 | 865 | 945 | 1375 | 1610 | 2190 |\n",
    "| Bandwidth (nm)          | 20  | 65  | 35  | 30  | 15  | 15  | 20  | 115 | 20  | 20  | 30   | 90   | 180  |\n",
    "| Spatial resolution (m)  | 60  | 10  | 10  | 10  | 20  | 20  | 20  | 10  | 20  | 60  | 60   | 20   | 20   |"
   ]
  },
  {
   "cell_type": "markdown",
   "metadata": {},
   "source": [
    "### <a name=\"service\">Service Definition"
   ]
  },
  {
   "cell_type": "code",
   "execution_count": 1,
   "metadata": {
    "collapsed": true
   },
   "outputs": [],
   "source": [
    "service = dict([('title', 'satcen-01-03-01'),\n",
    "                ('abstract', 'SATCEN-01-03-01 Sentinel-2 DVI, composites and BOA reflectances'),\n",
    "                ('id', 'ewf-satcen-01-03-01')])"
   ]
  },
  {
   "cell_type": "markdown",
   "metadata": {},
   "source": [
    "### <a name=\"parameter\">Parameter Definition "
   ]
  },
  {
   "cell_type": "markdown",
   "metadata": {},
   "source": [
    "**Resolution**\n",
    "\n",
    "Target resolution expressed in meters: 10, 20 or 60"
   ]
  },
  {
   "cell_type": "code",
   "execution_count": 2,
   "metadata": {
    "collapsed": true
   },
   "outputs": [],
   "source": [
    "resolution = dict([('id', 'resolution'),\n",
    "                   ('value', '10'),\n",
    "                   ('title', 'Target resolution'),\n",
    "                   ('abstract', 'Target resolution (10m, 20m or 60m)')])"
   ]
  },
  {
   "cell_type": "markdown",
   "metadata": {},
   "source": [
    "**Cloud percentage threshold**\n",
    "\n",
    "Cloud percentage threshold for analysis rejection. Above the threshold over the AOI, the processing stops"
   ]
  },
  {
   "cell_type": "code",
   "execution_count": 3,
   "metadata": {
    "collapsed": true
   },
   "outputs": [],
   "source": [
    "percentage_threshold = dict([('id', 'percentage_threshold'),\n",
    "                             ('value', '20.0'),\n",
    "                             ('title', 'Cloud percentage threshold'),\n",
    "                             ('abstract', 'Cloud percentage threshold')])"
   ]
  },
  {
   "cell_type": "markdown",
   "metadata": {},
   "source": [
    "**Area of interest WKT**\n",
    "\n",
    "Area of interest expressed in Well-Known Text"
   ]
  },
  {
   "cell_type": "code",
   "execution_count": 4,
   "metadata": {
    "collapsed": true
   },
   "outputs": [],
   "source": [
    "wkt = dict([('id', 'wkt'),\n",
    "            ('value', 'POLYGON((14.9997721265064 38.0212298555682,15.0339421243074 38.1469295398089,15.076722011609 38.2943830685215,15.1196939590664 38.4418167678655,15.1628416993738 38.5892613166416,15.2061510925436 38.7366798078584,15.2388261265461 38.8477042183055,16.2649601148006 38.8421486728812,16.2478654087227 37.8528295032852,14.9997726359092 37.8594419593273,14.9997721265064 38.0212298555682))'),\n",
    "            ('title', 'Protected Area wkt'),\n",
    "            ('abstract', 'Protected Area wkt')])\n"
   ]
  },
  {
   "cell_type": "markdown",
   "metadata": {},
   "source": [
    "** Sentinel-2 flag expression**\n",
    "\n",
    "Flag expression for pixel selection"
   ]
  },
  {
   "cell_type": "code",
   "execution_count": 5,
   "metadata": {},
   "outputs": [],
   "source": [
    "flag_expr = dict([('id', 'flag_expr'),\n",
    "                  ('value', '( saturated_l1a_B4 or scl_water )'),\n",
    "                  ('title', 'Flag expression for pixel exclusion'),\n",
    "                  ('abstract', 'Flag expression for pixel exclusion (e.g. saturated_l1a_B4 will exclude pixels having the flag saturated_l1a_B4 set)')])"
   ]
  },
  {
   "cell_type": "markdown",
   "metadata": {},
   "source": [
    "### <a name=\"runtime\">Runtime parameter definition"
   ]
  },
  {
   "cell_type": "markdown",
   "metadata": {},
   "source": [
    "**Input identifier**\n",
    "\n",
    "This is the Sentinel-2 product identifier"
   ]
  },
  {
   "cell_type": "code",
   "execution_count": 6,
   "metadata": {
    "collapsed": true
   },
   "outputs": [],
   "source": [
    "input_identifier = 'S2B_MSIL2A_20180803T094029_N0208_R036_T33SWC_20180803T141742'"
   ]
  },
  {
   "cell_type": "markdown",
   "metadata": {},
   "source": [
    "**Input reference**\n",
    "\n",
    "This is the Sentinel-2 catalogue reference"
   ]
  },
  {
   "cell_type": "code",
   "execution_count": 7,
   "metadata": {
    "collapsed": false
   },
   "outputs": [],
   "source": [
    "input_reference = 'https://catalog.terradue.com/sentinel2/search?uid=S2B_MSIL2A_20180803T094029_N0208_R036_T33SWC_20180803T141742'"
   ]
  },
  {
   "cell_type": "markdown",
   "metadata": {},
   "source": [
    "**Data path**\n",
    "\n",
    "This path defines where the data is staged-in. "
   ]
  },
  {
   "cell_type": "code",
   "execution_count": 8,
   "metadata": {
    "collapsed": true
   },
   "outputs": [],
   "source": [
    "data_path = '/workspace/data'"
   ]
  },
  {
   "cell_type": "markdown",
   "metadata": {},
   "source": [
    "### <a name=\"workflow\">Workflow"
   ]
  },
  {
   "cell_type": "markdown",
   "metadata": {},
   "source": [
    "#### Import the packages required for processing the Sentinel-1 backscatter"
   ]
  },
  {
   "cell_type": "code",
   "execution_count": 9,
   "metadata": {
    "collapsed": true
   },
   "outputs": [],
   "source": [
    "%matplotlib inline\n",
    "\n",
    "import warnings\n",
    "warnings.filterwarnings(\"ignore\")\n",
    "import os\n",
    "import sys\n",
    "\n",
    "import dateutil.parser as parser\n",
    "\n",
    "import numpy as np\n",
    "import matplotlib\n",
    "import matplotlib.pyplot as plt\n",
    "import matplotlib.colors as colors\n",
    "\n",
    "import snappy\n",
    "\n",
    "import gc\n",
    "\n",
    "import gdalnumeric\n",
    "\n",
    "import gdal\n",
    "import osr\n",
    "import numpy as np"
   ]
  },
  {
   "cell_type": "markdown",
   "metadata": {},
   "source": [
    "#### Open the Sentinel-2 product"
   ]
  },
  {
   "cell_type": "code",
   "execution_count": 10,
   "metadata": {
    "collapsed": false
   },
   "outputs": [],
   "source": [
    "s2prd = \"%s/%s/%s.SAFE/MTD_MSIL2A.xml\" % (data_path, input_identifier, input_identifier)\n",
    "product = snappy.ProductIO.readProduct(s2prd)\n",
    "\n",
    "width = product.getSceneRasterWidth()\n",
    "height = product.getSceneRasterHeight()\n",
    "name = product.getName()\n",
    "description = product.getDescription()\n",
    "band_names = product.getBandNames()\n",
    "\n"
   ]
  },
  {
   "cell_type": "code",
   "execution_count": 11,
   "metadata": {},
   "outputs": [],
   "source": [
    "product_date = parser.parse(product.getStartTime().toString()).date()\n",
    "output_date = '%s%02d%02d' % (product_date.year, product_date.month, product_date.day)\n"
   ]
  },
  {
   "cell_type": "markdown",
   "metadata": {},
   "source": [
    "#### Resample "
   ]
  },
  {
   "cell_type": "code",
   "execution_count": 12,
   "metadata": {},
   "outputs": [],
   "source": [
    "if resolution['value'] == '10':\n",
    "    reference_band = 'B4'\n",
    "\n",
    "if resolution['value'] == '20':\n",
    "    reference_band = 'B5'\n",
    "    \n",
    "if resolution['value'] == '60':\n",
    "    reference_band = 'B1' "
   ]
  },
  {
   "cell_type": "code",
   "execution_count": 13,
   "metadata": {},
   "outputs": [],
   "source": [
    "snappy.GPF.getDefaultInstance().getOperatorSpiRegistry().loadOperatorSpis()\n",
    "\n",
    "HashMap = snappy.jpy.get_type('java.util.HashMap')\n",
    "   \n",
    "parameters = HashMap()\n",
    "parameters.put('referenceBand', reference_band)\n",
    "\n",
    "resample = snappy.GPF.createProduct('Resample', parameters, product)"
   ]
  },
  {
   "cell_type": "markdown",
   "metadata": {},
   "source": [
    "#### Cloud coverage analysis"
   ]
  },
  {
   "cell_type": "code",
   "execution_count": 14,
   "metadata": {},
   "outputs": [],
   "source": [
    "HashMap = snappy.jpy.get_type('java.util.HashMap')\n",
    "\n",
    "BandDescriptor = snappy.jpy.get_type('org.esa.snap.core.gpf.common.BandMathsOp$BandDescriptor')\n",
    "\n",
    "targetBand0 = BandDescriptor()\n",
    "targetBand0.name = 'cloud_mask'\n",
    "targetBand0.type = 'uint16'\n",
    "targetBand0.expression = 'opaque_clouds_60m'\n",
    "\n",
    "targetBands = snappy.jpy.array('org.esa.snap.core.gpf.common.BandMathsOp$BandDescriptor', 1)\n",
    "targetBands[0] = targetBand0\n",
    " \n",
    "parameters = HashMap()\n",
    "parameters.put('targetBands', targetBands)\n",
    "\n",
    "cloud_mask = snappy.GPF.createProduct('BandMaths', parameters, resample)"
   ]
  },
  {
   "cell_type": "code",
   "execution_count": 15,
   "metadata": {},
   "outputs": [
    {
     "data": {
      "text/plain": [
       "16"
      ]
     },
     "execution_count": 15,
     "metadata": {},
     "output_type": "execute_result"
    }
   ],
   "source": [
    "WKTReader = snappy.jpy.get_type('com.vividsolutions.jts.io.WKTReader')\n",
    "\n",
    "geom = WKTReader().read(wkt['value'])\n",
    "\n",
    "parameters = HashMap()\n",
    "parameters.put('copyMetadata', True)\n",
    "parameters.put('geoRegion', geom)\n",
    "    \n",
    "cloud_mask_geo = snappy.GPF.createProduct('Subset', parameters, cloud_mask)\n",
    "\n",
    "mask_geo_output_name = 'AOI_MASK.tif'\n",
    "snappy.ProductIO.writeProduct(cloud_mask_geo, mask_geo_output_name, 'GeoTIFF-BigTIFF')\n",
    "\n",
    "cloud_mask_geo = None\n",
    "gc.collect()"
   ]
  },
  {
   "cell_type": "code",
   "execution_count": null,
   "metadata": {},
   "outputs": [],
   "source": []
  },
  {
   "cell_type": "code",
   "execution_count": 16,
   "metadata": {},
   "outputs": [],
   "source": [
    "raster_file = gdalnumeric.LoadFile(mask_geo_output_name)\n",
    "\n",
    "pixel_count_cloud_geo = (raster_file == 255).sum()  # for pixel value = 1\n",
    "\n",
    "cloud_percent =  float(pixel_count_cloud_geo) / float(raster_file.size) * 100.0\n",
    "\n",
    "os.remove(mask_geo_output_name)\n",
    "raster_file = None"
   ]
  },
  {
   "cell_type": "code",
   "execution_count": 17,
   "metadata": {},
   "outputs": [
    {
     "data": {
      "text/plain": [
       "4.1278927408999975"
      ]
     },
     "execution_count": 17,
     "metadata": {},
     "output_type": "execute_result"
    }
   ],
   "source": [
    "cloud_percent"
   ]
  },
  {
   "cell_type": "code",
   "execution_count": 18,
   "metadata": {},
   "outputs": [],
   "source": [
    "if cloud_percent >= float(percentage_threshold['value']):\n",
    "    \n",
    "    exit(0)"
   ]
  },
  {
   "cell_type": "markdown",
   "metadata": {},
   "source": [
    "#### Clouds below threshold"
   ]
  },
  {
   "cell_type": "code",
   "execution_count": 19,
   "metadata": {},
   "outputs": [],
   "source": [
    "if not flag_expr['value']:\n",
    "    dvi_expr = '(B9 - B4) * 10000'\n",
    "else:\n",
    "    dvi_expr = '! %s ? (B9 - B4) * 10000' % flag_expr['value']\n",
    "    \n",
    "dvi_expr = '(B9 - B4) * 10000'"
   ]
  },
  {
   "cell_type": "code",
   "execution_count": 20,
   "metadata": {},
   "outputs": [
    {
     "data": {
      "text/plain": [
       "['B1', 'B2', 'B3', 'B4', 'B5', 'B6', 'B7', 'B8', 'B8A', 'B9', 'B11', 'B12']"
      ]
     },
     "execution_count": 20,
     "metadata": {},
     "output_type": "execute_result"
    }
   ],
   "source": [
    "band_names = resample.getBandNames()\n",
    "list(band_names)[0:12]"
   ]
  },
  {
   "cell_type": "code",
   "execution_count": 21,
   "metadata": {},
   "outputs": [],
   "source": [
    "target_bands = list(band_names)[0:12] + ['dvi', 'quality_cloud_confidence', 'quality_snow_confidence', 'quality_scene_classification']"
   ]
  },
  {
   "cell_type": "code",
   "execution_count": 22,
   "metadata": {},
   "outputs": [],
   "source": [
    "BandDescriptor = snappy.jpy.get_type('org.esa.snap.core.gpf.common.BandMathsOp$BandDescriptor')\n",
    "\n",
    "targetBands = snappy.jpy.array('org.esa.snap.core.gpf.common.BandMathsOp$BandDescriptor', len(target_bands))\n",
    "\n",
    "for index, band in enumerate(target_bands):\n",
    "     \n",
    "    targetBand = BandDescriptor()\n",
    "    \n",
    "    if band == 'dvi':\n",
    "       \n",
    "        targetBand.expression = dvi_expr   \n",
    "    \n",
    "    else:\n",
    "    \n",
    "        targetBand.expression = band\n",
    "\n",
    "    targetBand.name = band\n",
    "    targetBand.type = 'float32'\n",
    "    \n",
    "    targetBands[index]= targetBand\n",
    "        \n",
    "\n",
    "parameters = HashMap()\n",
    "parameters.put('targetBands', targetBands)\n",
    "\n",
    "result = snappy.GPF.createProduct('BandMaths', parameters, resample)"
   ]
  },
  {
   "cell_type": "markdown",
   "metadata": {},
   "source": [
    "#### Subset"
   ]
  },
  {
   "cell_type": "code",
   "execution_count": 24,
   "metadata": {},
   "outputs": [],
   "source": [
    "WKTReader = snappy.jpy.get_type('com.vividsolutions.jts.io.WKTReader')\n",
    "\n",
    "geom = WKTReader().read(wkt['value'])\n",
    "\n",
    "parameters = HashMap()\n",
    "parameters.put('copyMetadata', True)\n",
    "parameters.put('geoRegion', geom)\n",
    "    \n",
    "subset_result = snappy.GPF.createProduct('Subset', parameters, result)\n",
    "\n",
    "\n",
    "output_name = '%s_DVI_BOA' % input_identifier\n",
    "\n",
    "snappy.ProductIO.writeProduct(subset_result, output_name, 'GeoTIFF-BigTIFF')"
   ]
  },
  {
   "cell_type": "markdown",
   "metadata": {},
   "source": [
    "#### Composites"
   ]
  },
  {
   "cell_type": "code",
   "execution_count": null,
   "metadata": {},
   "outputs": [],
   "source": [
    "ds = gdal.Open(output_name + '.tif')\n",
    "\n",
    "geo_transform = ds.GetGeoTransform()\n",
    "proj = ds.GetProjection()\n",
    "\n",
    "srs=osr.SpatialReference(wkt=proj)\n",
    "\n",
    "options = ['PHOTOMETRIC=RGB', 'PROFILE=GeoTIFF']"
   ]
  },
  {
   "cell_type": "code",
   "execution_count": null,
   "metadata": {},
   "outputs": [],
   "source": [
    "from skimage.exposure import cumulative_distribution\n",
    "import matplotlib.pylab as plt\n",
    "import numpy as np\n",
    "\n",
    "def cdf(im):\n",
    " \n",
    "    c, b = cumulative_distribution(im) \n",
    "    # pad the beginning and ending pixels and their CDF values\n",
    "    c = np.insert(c, 0, [0]*b[0])\n",
    "    c = np.append(c, [1]*(255-b[-1]))\n",
    "\n",
    "    return c\n",
    "\n",
    "def hist_matching(c, c_t, im):\n",
    " \n",
    "    pixels = np.arange(256)\n",
    "    # find closest pixel-matches corresponding to the CDF of the input image, given the value of the CDF H of   \n",
    "    # the template image at the corresponding pixels, s.t. c_t = H(pixels) <=> pixels = H-1(c_t)\n",
    "    new_pixels = np.interp(c, c_t, pixels) \n",
    "    im = (np.reshape(new_pixels[im.ravel()], im.shape)).astype(np.uint8)\n",
    " \n",
    "    return im"
   ]
  },
  {
   "cell_type": "code",
   "execution_count": null,
   "metadata": {
    "collapsed": true
   },
   "outputs": [],
   "source": [
    "# (4,3,2), (8a,4,3), (8,4,3), (8a,4,12), (11,8a,4), (8a,11,2), (12,4,3)\n",
    "\n",
    "rgb_composites = [['B4', 'B3', 'B2', 1],\n",
    "                 ['B8A', 'B4', 'B3', 2],\n",
    "                 ['B8', 'B4', 'B3', 1],\n",
    "                 ['B8A', 'B4', 'B12', 2],\n",
    "                 ['B11', 'B8A', 'B4', 2],\n",
    "                 ['B8A', 'B11', 'B2', 0],\n",
    "                 ['B12', 'B4', 'B3', 0]]\n",
    "\n",
    "\n",
    "for rgb_composite in rgb_composites:\n",
    "\n",
    "    red_radiance  = subset_result.getBand(rgb_composite[0])\n",
    "    green_radiance = subset_result.getBand(rgb_composite[1])\n",
    "    blue_radiance = subset_result.getBand(rgb_composite[2])\n",
    "\n",
    "    w = red_radiance.getRasterWidth()  \n",
    "    h = red_radiance.getRasterHeight()\n",
    "\n",
    "    red_radiance_data = np.zeros(w * h, np.float32)\n",
    "    red_radiance.readPixels(0, 0, w, h, red_radiance_data)\n",
    "    red_radiance_data.shape = h, w\n",
    "\n",
    "    green_radiance_data = np.zeros(w * h, np.float32)\n",
    "    green_radiance.readPixels(0, 0, w, h, green_radiance_data)\n",
    "    green_radiance_data.shape = h, w\n",
    "\n",
    "    blue_radiance_data = np.zeros(w * h, np.float32)\n",
    "    blue_radiance.readPixels(0, 0, w, h, blue_radiance_data)\n",
    "    blue_radiance_data.shape = h, w\n",
    "\n",
    "\n",
    "    red = (red_radiance_data*256/(np.amax(red_radiance_data)-np.amin(red_radiance_data)))\n",
    "\n",
    "    green = (green_radiance_data*256/(np.amax(green_radiance_data)-np.amin(green_radiance_data)))\n",
    "\n",
    "    blue = (blue_radiance_data*256/(np.amax(blue_radiance_data)-np.amin(blue_radiance_data)))\n",
    "\n",
    "    \n",
    "    \n",
    "    rgb_name = '%s_%s_%s_%s.tif' % (output_name,\n",
    "                                    rgb_composite[0],\n",
    "                                    rgb_composite[1],\n",
    "                                    rgb_composite[2])\n",
    "    \n",
    "    dst_ds = gdal.GetDriverByName('GTiff').Create(rgb_name, w, h, 3, gdal.GDT_Byte, options=options)\n",
    "    \n",
    "    dst_ds.SetGeoTransform(geo_transform)    # specify coords\n",
    " \n",
    "    dst_ds.SetProjection(srs.ExportToWkt()) # export coords to file\n",
    "    dst_ds.GetRasterBand(1).WriteArray(red.astype(np.uint8))   # write r-band to the raster\n",
    "    dst_ds.GetRasterBand(2).WriteArray(green.astype(np.uint8))   # write g-band to the raster\n",
    "    dst_ds.GetRasterBand(3).WriteArray(blue.astype(np.uint8))   # write b-band to the raster\n",
    "    dst_ds.FlushCache()                     # write to disk\n",
    "    dst_ds = None\n",
    "    \n",
    "    \n",
    "    if rgb_composite[3] == 0: \n",
    "        \n",
    "        template = cdf(red.astype(np.uint8))\n",
    "    \n",
    "    if rgb_composite[3] == 1:\n",
    "        \n",
    "        template = cdf(green.astype(np.uint8))\n",
    "        \n",
    "    if rgb_composite[3] == 2:\n",
    "        \n",
    "        template = cdf(blue.astype(np.uint8))\n",
    "    \n",
    "    \n",
    "    new_red = hist_matching(cdf(red.astype(np.uint8)), \n",
    "                            template,\n",
    "                            green.astype(np.uint8))\n",
    "    \n",
    "    new_green = hist_matching(cdf(green.astype(np.uint8)), \n",
    "                              template,\n",
    "                              green.astype(np.uint8))\n",
    "    \n",
    "    new_blue = hist_matching(cdf(blue.astype(np.uint8)), \n",
    "                              template,\n",
    "                              blue.astype(np.uint8))\n",
    "    \n",
    "    rgb_name = '%s_%s_%s_%s_new.tif' % (output_name,\n",
    "                                        rgb_composite[0],\n",
    "                                        rgb_composite[1],\n",
    "                                        rgb_composite[2])\n",
    "    \n",
    "    dst_ds = gdal.GetDriverByName('GTiff').Create(rgb_name, w, h, 3, gdal.GDT_Byte, options=options)\n",
    "    \n",
    "    dst_ds.SetGeoTransform(geo_transform)    # specify coords\n",
    " \n",
    "    dst_ds.SetProjection(srs.ExportToWkt()) # export coords to file\n",
    "    dst_ds.GetRasterBand(1).WriteArray(red.astype(np.uint8))   # write r-band to the raster\n",
    "    dst_ds.GetRasterBand(2).WriteArray(new_green)   # write g-band to the raster\n",
    "    dst_ds.GetRasterBand(3).WriteArray(new_blue)   # write b-band to the raster\n",
    "    dst_ds.FlushCache()                     # write to disk\n",
    "    dst_ds = None\n",
    "    \n",
    "ds = None"
   ]
  },
  {
   "cell_type": "markdown",
   "metadata": {},
   "source": [
    "### <a name=\"license\">License"
   ]
  },
  {
   "cell_type": "markdown",
   "metadata": {},
   "source": [
    "This work is licenced under a [Attribution-ShareAlike 4.0 International License (CC BY-SA 4.0)](http://creativecommons.org/licenses/by-sa/4.0/) \n",
    "\n",
    "YOU ARE FREE TO:\n",
    "\n",
    "* Share - copy and redistribute the material in any medium or format.\n",
    "* Adapt - remix, transform, and built upon the material for any purpose, even commercially.\n",
    "\n",
    "UNDER THE FOLLOWING TERMS:\n",
    "\n",
    "* Attribution - You must give appropriate credit, provide a link to the license, and indicate if changes were made. You may do so in any reasonable manner, but not in any way that suggests the licensor endorses you or your use.\n",
    "* ShareAlike - If you remix, transform, or build upon the material, you must distribute your contributions under the same license as the original."
   ]
  }
 ],
 "metadata": {
  "kernelspec": {
   "display_name": "Python 2",
   "language": "python",
   "name": "python2"
  },
  "language_info": {
   "codemirror_mode": {
    "name": "ipython",
    "version": 2
   },
   "file_extension": ".py",
   "mimetype": "text/x-python",
   "name": "python",
   "nbconvert_exporter": "python",
   "pygments_lexer": "ipython2",
   "version": "2.7.12"
  }
 },
 "nbformat": 4,
 "nbformat_minor": 2
}
