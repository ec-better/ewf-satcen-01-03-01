{
 "cells": [
  {
   "cell_type": "markdown",
   "metadata": {},
   "source": [
    "## SATCEN-01-03-01 Sentinel-2 DVI, composites and BOA reflectances"
   ]
  },
  {
   "cell_type": "markdown",
   "metadata": {},
   "source": [
    "### <a name=\"quicklink\">Quick link"
   ]
  },
  {
   "cell_type": "markdown",
   "metadata": {},
   "source": [
    "* [Objective](#objective)\n",
    "* [Data](#data)\n",
    "* [Service Definition](#service)\n",
    "* [Parameter Definition](#parameter)\n",
    "* [Runtime Parameter Definition](#runtime)\n",
    "* [Workflow](#workflow)\n",
    "* [License](#license)"
   ]
  },
  {
   "cell_type": "markdown",
   "metadata": {},
   "source": [
    "### <a name=\"objective\">Objective "
   ]
  },
  {
   "cell_type": "markdown",
   "metadata": {},
   "source": [
    "As a data processor developer, I want to implement, and package an algorithm processing S2 Level1 datasets producing time series data cube of areas with potential illicit crops based on Sentinel 2 data\n",
    "\n",
    "* DVI Maps\n",
    "* Coregistered stack of Sentinel-2 (BOA reflectances)\n",
    "* Color composites (4,3,2), (8a,4,3), (8,4,3), (8a,4,12), (11,8a,4), (8a,11,2), (12,4,3)"
   ]
  },
  {
   "cell_type": "markdown",
   "metadata": {},
   "source": [
    "### <a name=\"data\">Data "
   ]
  },
  {
   "cell_type": "markdown",
   "metadata": {},
   "source": [
    "SENTINEL data products are made available systematically and free of charge to all data users including the general public, scientific and commercial users. Radar data will be delivered within an hour of reception for Near Real-Time (NRT) emergency response, within three hours for NRT priority areas and within 24 hours for systematically archived data.\n",
    "\n",
    "The data used are Sentinel-2 Level-1C products: Top of atmosphere reflectances in fixed cartographic geometry (combined UTM projection and WGS84 ellipsoid). Level-1C images are a set of tiles of 100 sq km, each of which is approximately 500 MB. These products contain applied radiometric and geometric corrections (including orthorectification and spatial registration). \n",
    "\n",
    "The spectral bands of Sentinel-2 Level-1C products are:\n",
    "\n",
    "| S-2 band                | 1   | 2   | 3   | 4   | 5   | 6   | 7   | 8   | 8a  | 9   | 10   | 11   | 12   |\n",
    "|-------------------------|-----|-----|-----|-----|-----|-----|-----|-----|-----|-----|------|------|------|\n",
    "| Central wavelength (nm) | 443 | 490 | 560 | 665 | 705 | 740 | 783 | 842 | 865 | 945 | 1375 | 1610 | 2190 |\n",
    "| Bandwidth (nm)          | 20  | 65  | 35  | 30  | 15  | 15  | 20  | 115 | 20  | 20  | 30   | 90   | 180  |\n",
    "| Spatial resolution (m)  | 60  | 10  | 10  | 10  | 20  | 20  | 20  | 10  | 20  | 60  | 60   | 20   | 20   |"
   ]
  },
  {
   "cell_type": "markdown",
   "metadata": {},
   "source": [
    "### <a name=\"service\">Service Definition"
   ]
  },
  {
   "cell_type": "code",
   "execution_count": null,
   "metadata": {
    "collapsed": true
   },
   "outputs": [],
   "source": [
    "service = dict([('title', 'satcen-01-03-01'),\n",
    "                ('abstract', 'SATCEN-01-03-01 Sentinel-2 DVI, composites and BOA reflectances'),\n",
    "                ('id', 'ewf-satcen-01-03-01')])"
   ]
  },
  {
   "cell_type": "markdown",
   "metadata": {},
   "source": [
    "### <a name=\"parameter\">Parameter Definition "
   ]
  },
  {
   "cell_type": "markdown",
   "metadata": {},
   "source": [
    "**Resolution**\n",
    "\n",
    "Target resolution expressed in meters: 10, 20 or 60"
   ]
  },
  {
   "cell_type": "code",
   "execution_count": null,
   "metadata": {
    "collapsed": true
   },
   "outputs": [],
   "source": [
    "resolution = dict([('id', 'resolution'),\n",
    "                   ('value', '10'),\n",
    "                   ('title', 'Target resolution'),\n",
    "                   ('abstract', 'Target resolution (10m, 20m or 60m)')])"
   ]
  },
  {
   "cell_type": "markdown",
   "metadata": {},
   "source": [
    "**Cloud percentage threshold**\n",
    "\n",
    "Cloud percentage threshold for analysis rejection. Above the threshold over the AOI, the processing stops"
   ]
  },
  {
   "cell_type": "code",
   "execution_count": null,
   "metadata": {
    "collapsed": true
   },
   "outputs": [],
   "source": [
    "percentage_threshold = dict([('id', 'percentage_threshold'),\n",
    "                             ('value', '20.0'),\n",
    "                             ('title', 'Cloud percentage threshold'),\n",
    "                             ('abstract', 'Cloud percentage threshold')])"
   ]
  },
  {
   "cell_type": "markdown",
   "metadata": {},
   "source": [
    "**Area of interest WKT**\n",
    "\n",
    "Area of interest expressed in Well-Known Text"
   ]
  },
  {
   "cell_type": "code",
   "execution_count": null,
   "metadata": {
    "collapsed": true
   },
   "outputs": [],
   "source": [
    "wkt = dict([('id', 'wkt'),\n",
    "            ('value', '\"POLYGON((65.02055555555556 30.43894444444445,65.02055555555556 33.39566666666666,63.94222222222222 33.39566666666666,63.94222222222222 30.43894444444445,65.02055555555556 30.43894444444445))'),\n",
    "            ('title', 'Protected Area wkt'),\n",
    "            ('abstract', 'Protected Area wkt')])\n"
   ]
  },
  {
   "cell_type": "markdown",
   "metadata": {},
   "source": [
    "** Sentinel-2 flag expression**\n",
    "\n",
    "Flag expression for pixel selection"
   ]
  },
  {
   "cell_type": "code",
   "execution_count": null,
   "metadata": {},
   "outputs": [],
   "source": [
    "flag_expr = dict([('id', 'flag_expr'),\n",
    "                  ('value', '( saturated_l1a_B4 or scl_water )'),\n",
    "                  ('title', 'Flag expression for pixel exclusion'),\n",
    "                  ('abstract', 'Flag expression for pixel exclusion (e.g. saturated_l1a_B4 will exclude pixels having the flag saturated_l1a_B4 set)')])"
   ]
  },
  {
   "cell_type": "markdown",
   "metadata": {},
   "source": [
    "### <a name=\"runtime\">Runtime parameter definition"
   ]
  },
  {
   "cell_type": "markdown",
   "metadata": {},
   "source": [
    "**Input identifier**\n",
    "\n",
    "This is the Sentinel-2 product identifier"
   ]
  },
  {
   "cell_type": "code",
   "execution_count": null,
   "metadata": {
    "collapsed": true
   },
   "outputs": [],
   "source": [
    "download_location = '/workspace/data/S2A_MSIL2A_20180729T061631_N0206_R034_T41RNP_20180729T082519'"
   ]
  },
  {
   "cell_type": "code",
   "execution_count": null,
   "metadata": {
    "collapsed": true
   },
   "outputs": [],
   "source": [
    "input_identifier = download_location.split('/')[-1]"
   ]
  },
  {
   "cell_type": "markdown",
   "metadata": {},
   "source": [
    "**Input reference**\n",
    "\n",
    "This is the Sentinel-2 catalogue reference"
   ]
  },
  {
   "cell_type": "code",
   "execution_count": null,
   "metadata": {
    "collapsed": false
   },
   "outputs": [],
   "source": [
    "input_reference = 'https://catalog.terradue.com//better-common-00001/series/results/search?format=atom&uid=2b0ad8c3d9c7ed240b9b57b89b92374d109a4468'"
   ]
  },
  {
   "cell_type": "markdown",
   "metadata": {},
   "source": [
    "### <a name=\"workflow\">Workflow"
   ]
  },
  {
   "cell_type": "markdown",
   "metadata": {},
   "source": [
    "#### Import the packages required for processing the Sentinel-1 backscatter"
   ]
  },
  {
   "cell_type": "code",
   "execution_count": null,
   "metadata": {
    "collapsed": true
   },
   "outputs": [],
   "source": [
    "%matplotlib inline\n",
    "\n",
    "import warnings\n",
    "warnings.filterwarnings(\"ignore\")\n",
    "import os\n",
    "import sys\n",
    "\n",
    "import dateutil.parser as parser\n",
    "\n",
    "import numpy as np\n",
    "import matplotlib\n",
    "import matplotlib.pyplot as plt\n",
    "import matplotlib.colors as colors\n",
    "\n",
    "import snappy\n",
    "\n",
    "import gc\n",
    "\n",
    "import gdalnumeric\n",
    "\n",
    "import gdal\n",
    "import osr\n",
    "import numpy as np"
   ]
  },
  {
   "cell_type": "markdown",
   "metadata": {},
   "source": [
    "#### Open the Sentinel-2 product"
   ]
  },
  {
   "cell_type": "code",
   "execution_count": null,
   "metadata": {
    "collapsed": false
   },
   "outputs": [],
   "source": [
    "s2prd = \"%s/%s.SAFE/MTD_MSIL2A.xml\" % (download_location, input_identifier)\n",
    "product = snappy.ProductIO.readProduct(s2prd)\n",
    "\n",
    "width = product.getSceneRasterWidth()\n",
    "height = product.getSceneRasterHeight()\n",
    "name = product.getName()\n",
    "description = product.getDescription()\n",
    "band_names = product.getBandNames()"
   ]
  },
  {
   "cell_type": "code",
   "execution_count": null,
   "metadata": {},
   "outputs": [],
   "source": [
    "product_date = parser.parse(product.getStartTime().toString()).date()\n",
    "output_date = '%s%02d%02d' % (product_date.year, product_date.month, product_date.day)"
   ]
  },
  {
   "cell_type": "markdown",
   "metadata": {},
   "source": [
    "#### Resample "
   ]
  },
  {
   "cell_type": "code",
   "execution_count": null,
   "metadata": {},
   "outputs": [],
   "source": [
    "if resolution['value'] == '10':\n",
    "    reference_band = 'B4'\n",
    "\n",
    "if resolution['value'] == '20':\n",
    "    reference_band = 'B5'\n",
    "    \n",
    "if resolution['value'] == '60':\n",
    "    reference_band = 'B1' "
   ]
  },
  {
   "cell_type": "code",
   "execution_count": null,
   "metadata": {},
   "outputs": [],
   "source": [
    "snappy.GPF.getDefaultInstance().getOperatorSpiRegistry().loadOperatorSpis()\n",
    "\n",
    "HashMap = snappy.jpy.get_type('java.util.HashMap')\n",
    "   \n",
    "parameters = HashMap()\n",
    "parameters.put('referenceBand', reference_band)\n",
    "\n",
    "resample = snappy.GPF.createProduct('Resample', parameters, product)"
   ]
  },
  {
   "cell_type": "markdown",
   "metadata": {},
   "source": [
    "#### Cloud coverage analysis"
   ]
  },
  {
   "cell_type": "code",
   "execution_count": null,
   "metadata": {},
   "outputs": [],
   "source": [
    "sys.path.append('/opt/anaconda/bin/')\n",
    "import cioppy\n",
    "ciop = cioppy.Cioppy()\n",
    "\n",
    "HashMap = snappy.jpy.get_type('java.util.HashMap')\n",
    "BandDescriptor = snappy.jpy.get_type('org.esa.snap.core.gpf.common.BandMathsOp$BandDescriptor')\n",
    "\n",
    "targetBand0 = BandDescriptor()\n",
    "targetBand0.name = 'cloud_mask'\n",
    "targetBand0.type = 'uint16'\n",
    "targetBand0.expression = 'opaque_clouds_10m'\n",
    "\n",
    "targetBands = snappy.jpy.array('org.esa.snap.core.gpf.common.BandMathsOp$BandDescriptor', 1)\n",
    "targetBands[0] = targetBand0\n",
    " \n",
    "parameters = HashMap()\n",
    "parameters.put('targetBands', targetBands)\n",
    "\n",
    "cloud_mask = snappy.GPF.createProduct('BandMaths', parameters, resample)"
   ]
  },
  {
   "cell_type": "code",
   "execution_count": null,
   "metadata": {},
   "outputs": [],
   "source": [
    "WKTReader = snappy.jpy.get_type('com.vividsolutions.jts.io.WKTReader')\n",
    "\n",
    "geom = WKTReader().read(wkt['value'])\n",
    "\n",
    "parameters = HashMap()\n",
    "parameters.put('copyMetadata', True)\n",
    "parameters.put('geoRegion', geom)\n",
    "    \n",
    "cloud_mask_geo = snappy.GPF.createProduct('Subset', parameters, cloud_mask)\n",
    "\n",
    "mask_geo_output_name = 'AOI_MASK.tif'\n",
    "snappy.ProductIO.writeProduct(cloud_mask_geo, mask_geo_output_name, 'GeoTIFF-BigTIFF')\n",
    "\n",
    "cloud_mask_geo = None\n",
    "gc.collect()"
   ]
  },
  {
   "cell_type": "code",
   "execution_count": null,
   "metadata": {},
   "outputs": [],
   "source": [
    "raster_file = gdalnumeric.LoadFile(mask_geo_output_name)\n",
    "\n",
    "pixel_count_cloud_geo = (raster_file == 255).sum()  # for pixel value = 1\n",
    "\n",
    "cloud_percent =  float(pixel_count_cloud_geo) / float(raster_file.size) * 100.0\n",
    "\n",
    "os.remove(mask_geo_output_name)\n",
    "raster_file = None"
   ]
  },
  {
   "cell_type": "markdown",
   "metadata": {},
   "source": [
    "Make sure that cloud coverage does not exceed threshold and stop execution if it does."
   ]
  },
  {
   "cell_type": "code",
   "execution_count": null,
   "metadata": {},
   "outputs": [],
   "source": [
    "assert (cloud_percent < float(percentage_threshold['value'])), \"Cloud coverage (%s) exceeds threshold (%s)\" % (cloud_percent, percentage_threshold['value'])"
   ]
  },
  {
   "cell_type": "markdown",
   "metadata": {},
   "source": [
    "#### Clouds below threshold"
   ]
  },
  {
   "cell_type": "code",
   "execution_count": null,
   "metadata": {},
   "outputs": [],
   "source": [
    "if not flag_expr['value']:\n",
    "    dvi_expr = '(B9 - B4) * 10000'\n",
    "else:\n",
    "    dvi_expr = '! %s ? (B9 - B4) * 10000' % flag_expr['value']\n",
    "    \n",
    "dvi_expr = '(B9 - B4) * 10000'"
   ]
  },
  {
   "cell_type": "code",
   "execution_count": null,
   "metadata": {},
   "outputs": [],
   "source": [
    "band_names = resample.getBandNames()\n",
    "list(band_names)[0:12]"
   ]
  },
  {
   "cell_type": "code",
   "execution_count": null,
   "metadata": {},
   "outputs": [],
   "source": [
    "target_bands = list(band_names)[0:12] + ['dvi', 'quality_cloud_confidence', 'quality_snow_confidence', 'quality_scene_classification']"
   ]
  },
  {
   "cell_type": "code",
   "execution_count": null,
   "metadata": {},
   "outputs": [],
   "source": [
    "BandDescriptor = snappy.jpy.get_type('org.esa.snap.core.gpf.common.BandMathsOp$BandDescriptor')\n",
    "\n",
    "targetBands = snappy.jpy.array('org.esa.snap.core.gpf.common.BandMathsOp$BandDescriptor', len(target_bands))\n",
    "\n",
    "for index, band in enumerate(target_bands):\n",
    "     \n",
    "    targetBand = BandDescriptor()\n",
    "    \n",
    "    if band == 'dvi':\n",
    "       \n",
    "        targetBand.expression = dvi_expr   \n",
    "    \n",
    "    else:\n",
    "    \n",
    "        targetBand.expression = band\n",
    "\n",
    "    targetBand.name = band\n",
    "    targetBand.type = 'float32'\n",
    "    \n",
    "    targetBands[index]= targetBand\n",
    "        \n",
    "\n",
    "parameters = HashMap()\n",
    "parameters.put('targetBands', targetBands)\n",
    "\n",
    "result = snappy.GPF.createProduct('BandMaths', parameters, resample)"
   ]
  },
  {
   "cell_type": "markdown",
   "metadata": {},
   "source": [
    "#### Subset"
   ]
  },
  {
   "cell_type": "code",
   "execution_count": null,
   "metadata": {},
   "outputs": [],
   "source": [
    "WKTReader = snappy.jpy.get_type('com.vividsolutions.jts.io.WKTReader')\n",
    "\n",
    "geom = WKTReader().read(wkt['value'])\n",
    "\n",
    "parameters = HashMap()\n",
    "parameters.put('copyMetadata', True)\n",
    "parameters.put('geoRegion', geom)\n",
    "\n",
    "subset_result = snappy.GPF.createProduct('Subset', parameters, result)\n",
    "\n",
    "output_name = '%s_DVI_BOA' % input_identifier\n",
    "\n",
    "snappy.ProductIO.writeProduct(subset_result, output_name, 'GeoTIFF-BigTIFF')"
   ]
  },
  {
   "cell_type": "markdown",
   "metadata": {},
   "source": [
    "#### Composites"
   ]
  },
  {
   "cell_type": "code",
   "execution_count": null,
   "metadata": {},
   "outputs": [],
   "source": [
    "ds = gdal.Open(output_name + '.tif')\n",
    "\n",
    "geo_transform = ds.GetGeoTransform()\n",
    "proj = ds.GetProjection()\n",
    "\n",
    "srs=osr.SpatialReference(wkt=proj)\n",
    "\n",
    "options = ['PHOTOMETRIC=RGB', 'PROFILE=GeoTIFF']"
   ]
  },
  {
   "cell_type": "code",
   "execution_count": null,
   "metadata": {},
   "outputs": [],
   "source": [
    "from skimage.exposure import cumulative_distribution\n",
    "import matplotlib.pylab as plt\n",
    "import numpy as np\n",
    "\n",
    "def cdf(im):\n",
    " \n",
    "    c, b = cumulative_distribution(im) \n",
    "    # pad the beginning and ending pixels and their CDF values\n",
    "    c = np.insert(c, 0, [0]*b[0])\n",
    "    c = np.append(c, [1]*(255-b[-1]))\n",
    "\n",
    "    return c\n",
    "\n",
    "def hist_matching(c, c_t, im):\n",
    " \n",
    "    pixels = np.arange(256)\n",
    "    # find closest pixel-matches corresponding to the CDF of the input image, given the value of the CDF H of   \n",
    "    # the template image at the corresponding pixels, s.t. c_t = H(pixels) <=> pixels = H-1(c_t)\n",
    "    new_pixels = np.interp(c, c_t, pixels) \n",
    "    im = (np.reshape(new_pixels[im.ravel()], im.shape)).astype(np.uint8)\n",
    " \n",
    "    return im"
   ]
  },
  {
   "cell_type": "code",
   "execution_count": null,
   "metadata": {
    "collapsed": true
   },
   "outputs": [],
   "source": [
    "# (4,3,2), (8a,4,3), (8,4,3), (8a,4,12), (11,8a,4), (8a,11,2), (12,4,3)\n",
    "\n",
    "result_files = [output_name + '.tif']\n",
    "\n",
    "rgb_composites = [['B4', 'B3', 'B2', 1],\n",
    "                 ['B8A', 'B4', 'B3', 2],\n",
    "                 ['B8', 'B4', 'B3', 1],\n",
    "                 ['B8A', 'B4', 'B12', 2],\n",
    "                 ['B11', 'B8A', 'B4', 2],\n",
    "                 ['B8A', 'B11', 'B2', 0],\n",
    "                 ['B12', 'B4', 'B3', 0]]\n",
    "\n",
    "\n",
    "for rgb_composite in rgb_composites:\n",
    "\n",
    "    red_radiance  = subset_result.getBand(rgb_composite[0])\n",
    "    green_radiance = subset_result.getBand(rgb_composite[1])\n",
    "    blue_radiance = subset_result.getBand(rgb_composite[2])\n",
    "\n",
    "    w = red_radiance.getRasterWidth()  \n",
    "    h = red_radiance.getRasterHeight()\n",
    "\n",
    "    red_radiance_data = np.zeros(w * h, np.float32)\n",
    "    red_radiance.readPixels(0, 0, w, h, red_radiance_data)\n",
    "    red_radiance_data.shape = h, w\n",
    "\n",
    "    green_radiance_data = np.zeros(w * h, np.float32)\n",
    "    green_radiance.readPixels(0, 0, w, h, green_radiance_data)\n",
    "    green_radiance_data.shape = h, w\n",
    "\n",
    "    blue_radiance_data = np.zeros(w * h, np.float32)\n",
    "    blue_radiance.readPixels(0, 0, w, h, blue_radiance_data)\n",
    "    blue_radiance_data.shape = h, w\n",
    "\n",
    "\n",
    "    red = (red_radiance_data*256/(np.amax(red_radiance_data)-np.amin(red_radiance_data)))\n",
    "\n",
    "    green = (green_radiance_data*256/(np.amax(green_radiance_data)-np.amin(green_radiance_data)))\n",
    "\n",
    "    blue = (blue_radiance_data*256/(np.amax(blue_radiance_data)-np.amin(blue_radiance_data)))\n",
    "\n",
    "    \n",
    "    \n",
    "    rgb_name = '%s_%s_%s_%s.tif' % (output_name,\n",
    "                                    rgb_composite[0],\n",
    "                                    rgb_composite[1],\n",
    "                                    rgb_composite[2])\n",
    "    \n",
    "    dst_ds = gdal.GetDriverByName('GTiff').Create(rgb_name, w, h, 3, gdal.GDT_Byte, options=options)\n",
    "    \n",
    "    dst_ds.SetGeoTransform(geo_transform)    # specify coords\n",
    " \n",
    "    dst_ds.SetProjection(srs.ExportToWkt()) # export coords to file\n",
    "    dst_ds.GetRasterBand(1).WriteArray(red.astype(np.uint8))   # write r-band to the raster\n",
    "    dst_ds.GetRasterBand(2).WriteArray(green.astype(np.uint8))   # write g-band to the raster\n",
    "    dst_ds.GetRasterBand(3).WriteArray(blue.astype(np.uint8))   # write b-band to the raster\n",
    "    dst_ds.FlushCache()                     # write to disk\n",
    "    dst_ds = None\n",
    "    \n",
    "    result_files.append(rgb_name)\n",
    "   \n",
    "ds = None"
   ]
  },
  {
   "cell_type": "markdown",
   "metadata": {},
   "source": []
  },
  {
   "cell_type": "markdown",
   "metadata": {},
   "source": [
    "### EOP Metadata"
   ]
  },
  {
   "cell_type": "code",
   "execution_count": null,
   "metadata": {},
   "outputs": [],
   "source": [
    "def eop_metadata(metadata, p_identifier):\n",
    "\n",
    "    opt = 'http://www.opengis.net/opt/2.1'\n",
    "    om  = 'http://www.opengis.net/om/2.0'\n",
    "    gml = 'http://www.opengis.net/gml/3.2'\n",
    "    eop = 'http://www.opengis.net/eop/2.1'\n",
    "    sar = 'http://www.opengis.net/sar/2.1'\n",
    "    \n",
    "    root = etree.Element('{%s}EarthObservation' % opt)\n",
    "\n",
    "    phenomenon_time = etree.SubElement(root, '{%s}phenomenonTime' % om)\n",
    "\n",
    "    time_period = etree.SubElement(phenomenon_time, '{%s}TimePeriod' % gml)\n",
    "\n",
    "    begin_position = etree.SubElement(time_period, '{%s}beginPosition'  % gml)\n",
    "\n",
    "    end_position = etree.SubElement(time_period, '{%s}endPosition'  % gml)\n",
    "\n",
    "    procedure = etree.SubElement(root, '{%s}procedure' % om)\n",
    "\n",
    "    earth_observation_equipment = etree.SubElement(procedure, '{%s}EarthObservationEquipment' % eop)\n",
    "\n",
    "    acquisition_parameters = etree.SubElement(earth_observation_equipment, '{%s}acquisitionParameters' % eop)\n",
    "\n",
    "    acquisition = etree.SubElement(acquisition_parameters, '{%s}Acquisition' % sar)\n",
    "\n",
    "    orbit_number = etree.SubElement(acquisition, '{%s}orbitNumber' % eop)\n",
    "\n",
    "    wrs_longitude_grid = etree.SubElement(acquisition, '{%s}wrsLongitudeGrid' % eop)\n",
    "    \n",
    "    feature_of_interest = etree.SubElement(root, '{%s}featureOfInterest' % om)\n",
    "    footprint = etree.SubElement(feature_of_interest, '{%s}Footprint' % eop)\n",
    "    multi_extentOf = etree.SubElement(footprint, '{%s}multiExtentOf' % eop)\n",
    "    multi_surface = etree.SubElement(multi_extentOf, '{%s}MultiSurface' % gml)\n",
    "    surface_members = etree.SubElement(multi_surface, '{%s}surfaceMembers' % gml)\n",
    "    polygon = etree.SubElement(surface_members, '{%s}Polygon' % gml)    \n",
    "    exterior = etree.SubElement(polygon, '{%s}exterior' % gml)  \n",
    "    linear_ring = etree.SubElement(exterior, '{%s}LinearRing' % gml) \n",
    "    poslist = etree.SubElement(linear_ring, '{%s}posList' % gml) \n",
    "\n",
    "\n",
    "    result = etree.SubElement(root, '{%s}result' % om)\n",
    "    earth_observation_result = etree.SubElement(result, '{%s}EarthObservationResult' % opt)\n",
    "    cloud_cover_percentage = etree.SubElement(earth_observation_result, '{%s}cloudCoverPercentage' % opt)\n",
    "    \n",
    "    metadata_property = etree.SubElement(root, '{%s}metaDataProperty' % eop)\n",
    "    earth_observation_metadata = etree.SubElement(metadata_property, '{%s}EarthObservationMetaData' % eop)\n",
    "    identifier = etree.SubElement(earth_observation_metadata, '{%s}identifier' % eop)\n",
    "    \n",
    "    begin_position.text = metadata['startdate']\n",
    "    end_position.text = metadata['enddate']\n",
    "    orbit_number.text = metadata['orbitNumber']\n",
    "    wrs_longitude_grid.text = metadata['wrsLongitudeGrid']\n",
    "    \n",
    "    coords = np.asarray([t[::-1] for t in list(loads(metadata['wkt']).exterior.coords)]).tolist()\n",
    " \n",
    "    pos_list = ''\n",
    "    for elem in coords:\n",
    "        pos_list += ' '.join(str(e) for e in elem) + ' '   \n",
    "\n",
    "    poslist.attrib['count'] = str(len(coords))\n",
    "    poslist.text = pos_list\n",
    "    \n",
    "    \n",
    "    identifier.text = p_identifier\n",
    "\n",
    "    return etree.tostring(root, pretty_print=True)"
   ]
  },
  {
   "cell_type": "markdown",
   "metadata": {},
   "source": [
    "###  Create EOP XML file"
   ]
  },
  {
   "cell_type": "code",
   "execution_count": null,
   "metadata": {},
   "outputs": [],
   "source": [
    "import cioppy\n",
    "ciop = cioppy.Cioppy()\n",
    "from shapely.wkt import loads\n",
    "import lxml.etree as etree\n",
    "\n",
    "\n",
    "search = ciop.search(end_point=input_reference,\n",
    "                     params=[],\n",
    "                     output_fields='enclosure,identifier,startdate,enddate,wkt,orbitNumber,orbitDirection,wrsLongitudeGrid',\n",
    "                     model='EOP')\n",
    "\n",
    "for result_file in result_files:\n",
    "    identifier = result_file.replace('.tif', '')\n",
    "    eop_xml = identifier + '.xml'\n",
    "    with open(eop_xml, 'wb') as file:\n",
    "        file.write('<?xml version=\"1.0\" encoding=\"UTF-8\"?>\\n')\n",
    "        file.write(eop_metadata(search[0], identifier))\n",
    "        file.close()"
   ]
  },
  {
   "cell_type": "markdown",
   "metadata": {},
   "source": [
    "### <a name=\"license\">License"
   ]
  },
  {
   "cell_type": "markdown",
   "metadata": {},
   "source": [
    "This work is licenced under a [Attribution-ShareAlike 4.0 International License (CC BY-SA 4.0)](http://creativecommons.org/licenses/by-sa/4.0/) \n",
    "\n",
    "YOU ARE FREE TO:\n",
    "\n",
    "* Share - copy and redistribute the material in any medium or format.\n",
    "* Adapt - remix, transform, and built upon the material for any purpose, even commercially.\n",
    "\n",
    "UNDER THE FOLLOWING TERMS:\n",
    "\n",
    "* Attribution - You must give appropriate credit, provide a link to the license, and indicate if changes were made. You may do so in any reasonable manner, but not in any way that suggests the licensor endorses you or your use.\n",
    "* ShareAlike - If you remix, transform, or build upon the material, you must distribute your contributions under the same license as the original."
   ]
  }
 ],
 "metadata": {
  "kernelspec": {
   "display_name": "Python 2",
   "language": "python",
   "name": "python2"
  },
  "language_info": {
   "codemirror_mode": {
    "name": "ipython",
    "version": 2
   },
   "file_extension": ".py",
   "mimetype": "text/x-python",
   "name": "python",
   "nbconvert_exporter": "python",
   "pygments_lexer": "ipython2",
   "version": "2.7.12"
  }
 },
 "nbformat": 4,
 "nbformat_minor": 2
}
